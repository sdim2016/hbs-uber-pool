{
 "cells": [
  {
   "cell_type": "markdown",
   "metadata": {},
   "source": [
    "# Problem 2: Waiting Times and Commuting versus Non-Commuting Hours\n",
    "\n",
    "This notebook analyzes the effect of extending waiting times from 2 minutes (control group) to 5 minutes (treatment group) separately for commuting and non-commuting hours."
   ]
  },
  {
   "cell_type": "markdown",
   "metadata": {},
   "source": [
    "## Import Libraries"
   ]
  },
  {
   "cell_type": "code",
   "execution_count": 5,
   "metadata": {},
   "outputs": [],
   "source": [
    "import pandas as pd\n",
    "import numpy as np\n",
    "from scipy import stats\n",
    "import matplotlib.pyplot as plt\n",
    "import seaborn as sns\n",
    "\n",
    "# Set styling for plots\n",
    "sns.set(style=\"whitegrid\")\n",
    "plt.rcParams.update({'font.size': 12})\n",
    "%matplotlib inline"
   ]
  },
  {
   "cell_type": "markdown",
   "metadata": {},
   "source": [
    "## Load and Prepare Data"
   ]
  },
  {
   "cell_type": "code",
   "execution_count": 6,
   "metadata": {},
   "outputs": [
    {
     "data": {
      "text/html": [
       "<div>\n",
       "<style scoped>\n",
       "    .dataframe tbody tr th:only-of-type {\n",
       "        vertical-align: middle;\n",
       "    }\n",
       "\n",
       "    .dataframe tbody tr th {\n",
       "        vertical-align: top;\n",
       "    }\n",
       "\n",
       "    .dataframe thead th {\n",
       "        text-align: right;\n",
       "    }\n",
       "</style>\n",
       "<table border=\"1\" class=\"dataframe\">\n",
       "  <thead>\n",
       "    <tr style=\"text-align: right;\">\n",
       "      <th></th>\n",
       "      <th>city_id</th>\n",
       "      <th>period_start</th>\n",
       "      <th>wait_time</th>\n",
       "      <th>treat</th>\n",
       "      <th>commute</th>\n",
       "      <th>trips_pool</th>\n",
       "      <th>trips_express</th>\n",
       "      <th>rider_cancellations</th>\n",
       "      <th>total_driver_payout</th>\n",
       "      <th>total_matches</th>\n",
       "      <th>total_double_matches</th>\n",
       "    </tr>\n",
       "  </thead>\n",
       "  <tbody>\n",
       "    <tr>\n",
       "      <th>0</th>\n",
       "      <td>Boston</td>\n",
       "      <td>19.2.2018 7:00</td>\n",
       "      <td>2 mins</td>\n",
       "      <td>False</td>\n",
       "      <td>True</td>\n",
       "      <td>1415</td>\n",
       "      <td>3245</td>\n",
       "      <td>256</td>\n",
       "      <td>34458.41163</td>\n",
       "      <td>3372</td>\n",
       "      <td>1476</td>\n",
       "    </tr>\n",
       "    <tr>\n",
       "      <th>1</th>\n",
       "      <td>Boston</td>\n",
       "      <td>19.2.2018 9:40</td>\n",
       "      <td>5 mins</td>\n",
       "      <td>True</td>\n",
       "      <td>False</td>\n",
       "      <td>1461</td>\n",
       "      <td>2363</td>\n",
       "      <td>203</td>\n",
       "      <td>29764.34982</td>\n",
       "      <td>2288</td>\n",
       "      <td>1275</td>\n",
       "    </tr>\n",
       "    <tr>\n",
       "      <th>2</th>\n",
       "      <td>Boston</td>\n",
       "      <td>19.2.2018 12:20</td>\n",
       "      <td>2 mins</td>\n",
       "      <td>False</td>\n",
       "      <td>False</td>\n",
       "      <td>1362</td>\n",
       "      <td>2184</td>\n",
       "      <td>118</td>\n",
       "      <td>27437.36736</td>\n",
       "      <td>2283</td>\n",
       "      <td>962</td>\n",
       "    </tr>\n",
       "    <tr>\n",
       "      <th>3</th>\n",
       "      <td>Boston</td>\n",
       "      <td>19.2.2018 15:00</td>\n",
       "      <td>5 mins</td>\n",
       "      <td>True</td>\n",
       "      <td>True</td>\n",
       "      <td>1984</td>\n",
       "      <td>3584</td>\n",
       "      <td>355</td>\n",
       "      <td>44995.45299</td>\n",
       "      <td>4035</td>\n",
       "      <td>2021</td>\n",
       "    </tr>\n",
       "    <tr>\n",
       "      <th>4</th>\n",
       "      <td>Boston</td>\n",
       "      <td>19.2.2018 17:40</td>\n",
       "      <td>2 mins</td>\n",
       "      <td>False</td>\n",
       "      <td>False</td>\n",
       "      <td>1371</td>\n",
       "      <td>2580</td>\n",
       "      <td>181</td>\n",
       "      <td>27583.95530</td>\n",
       "      <td>2200</td>\n",
       "      <td>979</td>\n",
       "    </tr>\n",
       "  </tbody>\n",
       "</table>\n",
       "</div>"
      ],
      "text/plain": [
       "  city_id     period_start wait_time  treat  commute  trips_pool  \\\n",
       "0  Boston   19.2.2018 7:00    2 mins  False     True        1415   \n",
       "1  Boston   19.2.2018 9:40    5 mins   True    False        1461   \n",
       "2  Boston  19.2.2018 12:20    2 mins  False    False        1362   \n",
       "3  Boston  19.2.2018 15:00    5 mins   True     True        1984   \n",
       "4  Boston  19.2.2018 17:40    2 mins  False    False        1371   \n",
       "\n",
       "   trips_express  rider_cancellations  total_driver_payout  total_matches  \\\n",
       "0           3245                  256          34458.41163           3372   \n",
       "1           2363                  203          29764.34982           2288   \n",
       "2           2184                  118          27437.36736           2283   \n",
       "3           3584                  355          44995.45299           4035   \n",
       "4           2580                  181          27583.95530           2200   \n",
       "\n",
       "   total_double_matches  \n",
       "0                  1476  \n",
       "1                  1275  \n",
       "2                   962  \n",
       "3                  2021  \n",
       "4                   979  "
      ]
     },
     "execution_count": 6,
     "metadata": {},
     "output_type": "execute_result"
    }
   ],
   "source": [
    "def load_data(file_path):\n",
    "    \"\"\"Load the CSV data with correct delimiter and decimal point formatting.\"\"\"\n",
    "    df = pd.read_csv(file_path, delimiter=';')\n",
    "    \n",
    "    # Convert columns that might have commas instead of dots as decimal separator\n",
    "    if 'total_driver_payout' in df.columns:\n",
    "        df['total_driver_payout'] = df['total_driver_payout'].str.replace(',', '.').astype(float)\n",
    "    \n",
    "    # Convert boolean columns\n",
    "    if 'treat' in df.columns:\n",
    "        df['treat'] = df['treat'].astype(bool)\n",
    "    if 'commute' in df.columns:\n",
    "        df['commute'] = df['commute'].astype(bool)\n",
    "    \n",
    "    return df\n",
    "\n",
    "# Load the data\n",
    "df = load_data('data/switchbacks.csv')\n",
    "\n",
    "# Display the first few rows\n",
    "df.head()"
   ]
  },
  {
   "cell_type": "markdown",
   "metadata": {},
   "source": [
    "## Helper Functions"
   ]
  },
  {
   "cell_type": "code",
   "execution_count": 7,
   "metadata": {},
   "outputs": [],
   "source": [
    "def run_ttest(group1, group2):\n",
    "    \"\"\"\n",
    "    Run t-test between two groups and return t-statistic, p-value, and significance at 5% level.\n",
    "    \"\"\"\n",
    "    t_stat, p_val = stats.ttest_ind(group1, group2, equal_var=False)\n",
    "    significant = p_val < 0.05\n",
    "    return t_stat, p_val, significant\n",
    "\n",
    "def calculate_match_rate(df):\n",
    "    \"\"\"Calculate the overall match rate for each observation.\"\"\"\n",
    "    return df['total_matches'] / (df['trips_pool'] + df['trips_express'])\n",
    "\n",
    "def calculate_double_match_rate(df):\n",
    "    \"\"\"Calculate the double match rate for each observation.\"\"\"\n",
    "    return df['total_double_matches'] / (df['trips_pool'] + df['trips_express'])\n",
    "\n",
    "def calculate_driver_payout_per_trip(df):\n",
    "    \"\"\"Calculate driver payout per trip for each observation.\"\"\"\n",
    "    return df['total_driver_payout'] / (df['trips_pool'] + df['trips_express'])"
   ]
  },
  {
   "cell_type": "markdown",
   "metadata": {},
   "source": [
    "## Part 1: Waiting Times during Commuting Hours \n",
    "\n",
    "In this section, we analyze the effect of extending waiting times from 2 minutes to 5 minutes during commuting hours."
   ]
  },
  {
   "cell_type": "code",
   "execution_count": 8,
   "metadata": {},
   "outputs": [
    {
     "name": "stdout",
     "output_type": "stream",
     "text": [
      "Sample sizes: Treatment group: 10, Control group: 10\n"
     ]
    }
   ],
   "source": [
    "# Filter data for commuting hours\n",
    "commuting_df = df[df['commute'] == True].copy()\n",
    "\n",
    "# Split into treatment and control groups\n",
    "commuting_treatment_df = commuting_df[commuting_df['treat'] == True].copy()  # 5-minute wait times\n",
    "commuting_control_df = commuting_df[commuting_df['treat'] == False].copy()   # 2-minute wait times\n",
    "\n",
    "# Print sample sizes\n",
    "print(f\"Sample sizes: Treatment group: {len(commuting_treatment_df)}, Control group: {len(commuting_control_df)}\")"
   ]
  },
  {
   "cell_type": "code",
   "execution_count": 9,
   "metadata": {},
   "outputs": [],
   "source": [
    "# Calculate metrics\n",
    "for df in [commuting_treatment_df, commuting_control_df]:\n",
    "    df['total_rides'] = df['trips_pool'] + df['trips_express'] \n",
    "    df['match_rate'] = calculate_match_rate(df)\n",
    "    df['double_match_rate'] = calculate_double_match_rate(df)\n",
    "    df['driver_payout_per_trip'] = calculate_driver_payout_per_trip(df)"
   ]
  },
  {
   "cell_type": "markdown",
   "metadata": {},
   "source": [
    "### Questions 1-2: Total Rides"
   ]
  },
  {
   "cell_type": "code",
   "execution_count": 10,
   "metadata": {},
   "outputs": [
    {
     "name": "stdout",
     "output_type": "stream",
     "text": [
      "1. What is the difference in the number of ridesharing trips between the treatment and control groups during commuting hours?\n",
      "Answer: -321.90 trips\n",
      "Mean trips with 5-minute wait (treatment): 4724.10\n",
      "Mean trips with 2-minute wait (control): 5046.00\n",
      "\n",
      "2. Is the difference statistically significant at the 5% confidence level?\n",
      "Answer: NO (p-value: 0.1728, t-statistic: -1.4197)\n"
     ]
    }
   ],
   "source": [
    "# Calculate means for total rides\n",
    "mean_rides_treatment = commuting_treatment_df['total_rides'].mean()\n",
    "mean_rides_control = commuting_control_df['total_rides'].mean()\n",
    "ride_difference = mean_rides_treatment - mean_rides_control\n",
    "\n",
    "# Run t-test\n",
    "t_stat_rides, p_val_rides, sig_rides = run_ttest(\n",
    "    commuting_treatment_df['total_rides'], \n",
    "    commuting_control_df['total_rides']\n",
    ")\n",
    "\n",
    "# Print results\n",
    "print(\"1. What is the difference in the number of ridesharing trips between the treatment and control groups during commuting hours?\")\n",
    "print(f\"Answer: {ride_difference:.2f} trips\")\n",
    "print(f\"Mean trips with 5-minute wait (treatment): {mean_rides_treatment:.2f}\")\n",
    "print(f\"Mean trips with 2-minute wait (control): {mean_rides_control:.2f}\")\n",
    "\n",
    "print(\"\\n2. Is the difference statistically significant at the 5% confidence level?\")\n",
    "print(f\"Answer: {'YES' if sig_rides else 'NO'} (p-value: {p_val_rides:.4f}, t-statistic: {t_stat_rides:.4f})\")"
   ]
  },
  {
   "cell_type": "markdown",
   "metadata": {},
   "source": [
    "### Questions 3-4: Rider Cancellations"
   ]
  },
  {
   "cell_type": "code",
   "execution_count": 11,
   "metadata": {},
   "outputs": [
    {
     "name": "stdout",
     "output_type": "stream",
     "text": [
      "3. What is the difference in the number of rider cancellations between the treatment and control groups during commuting hours?\n",
      "Answer: 56.30 cancellations\n",
      "Mean cancellations with 5-minute wait (treatment): 303.20\n",
      "Mean cancellations with 2-minute wait (control): 246.90\n",
      "\n",
      "4. Is the difference statistically significant at the 5% confidence level?\n",
      "Answer: YES (p-value: 0.0068, t-statistic: 3.1953)\n"
     ]
    }
   ],
   "source": [
    "# Calculate means for rider cancellations\n",
    "mean_cancellations_treatment = commuting_treatment_df['rider_cancellations'].mean()\n",
    "mean_cancellations_control = commuting_control_df['rider_cancellations'].mean()\n",
    "cancellation_difference = mean_cancellations_treatment - mean_cancellations_control\n",
    "\n",
    "# Run t-test\n",
    "t_stat_cancellations, p_val_cancellations, sig_cancellations = run_ttest(\n",
    "    commuting_treatment_df['rider_cancellations'], \n",
    "    commuting_control_df['rider_cancellations']\n",
    ")\n",
    "\n",
    "# Print results\n",
    "print(\"3. What is the difference in the number of rider cancellations between the treatment and control groups during commuting hours?\")\n",
    "print(f\"Answer: {cancellation_difference:.2f} cancellations\")\n",
    "print(f\"Mean cancellations with 5-minute wait (treatment): {mean_cancellations_treatment:.2f}\")\n",
    "print(f\"Mean cancellations with 2-minute wait (control): {mean_cancellations_control:.2f}\")\n",
    "\n",
    "print(\"\\n4. Is the difference statistically significant at the 5% confidence level?\")\n",
    "print(f\"Answer: {'YES' if sig_cancellations else 'NO'} (p-value: {p_val_cancellations:.4f}, t-statistic: {t_stat_cancellations:.4f})\")"
   ]
  },
  {
   "cell_type": "markdown",
   "metadata": {},
   "source": [
    "### Questions 5-6: Driver Payout per Trip"
   ]
  },
  {
   "cell_type": "code",
   "execution_count": 12,
   "metadata": {},
   "outputs": [
    {
     "name": "stdout",
     "output_type": "stream",
     "text": [
      "5. What is the difference in driver payout per trip between the treatment and control groups during commuting hours?\n",
      "Answer: $-0.2433\n",
      "Mean driver payout per trip with 5-minute wait (treatment): $7.5693\n",
      "Mean driver payout per trip with 2-minute wait (control): $7.8126\n",
      "\n",
      "6. Is the difference statistically significant at the 5% confidence level?\n",
      "Answer: NO (p-value: 0.2838, t-statistic: -1.1067)\n"
     ]
    }
   ],
   "source": [
    "# Calculate means for driver payout per trip\n",
    "mean_payout_treatment = commuting_treatment_df['driver_payout_per_trip'].mean()\n",
    "mean_payout_control = commuting_control_df['driver_payout_per_trip'].mean()\n",
    "payout_difference = mean_payout_treatment - mean_payout_control\n",
    "\n",
    "# Run t-test\n",
    "t_stat_payout, p_val_payout, sig_payout = run_ttest(\n",
    "    commuting_treatment_df['driver_payout_per_trip'], \n",
    "    commuting_control_df['driver_payout_per_trip']\n",
    ")\n",
    "\n",
    "# Print results\n",
    "print(\"5. What is the difference in driver payout per trip between the treatment and control groups during commuting hours?\")\n",
    "print(f\"Answer: ${payout_difference:.4f}\")\n",
    "print(f\"Mean driver payout per trip with 5-minute wait (treatment): ${mean_payout_treatment:.4f}\")\n",
    "print(f\"Mean driver payout per trip with 2-minute wait (control): ${mean_payout_control:.4f}\")\n",
    "\n",
    "print(\"\\n6. Is the difference statistically significant at the 5% confidence level?\")\n",
    "print(f\"Answer: {'YES' if sig_payout else 'NO'} (p-value: {p_val_payout:.4f}, t-statistic: {t_stat_payout:.4f})\")"
   ]
  },
  {
   "cell_type": "markdown",
   "metadata": {},
   "source": [
    "### Questions 7-8: Match Rate"
   ]
  },
  {
   "cell_type": "code",
   "execution_count": 13,
   "metadata": {},
   "outputs": [
    {
     "name": "stdout",
     "output_type": "stream",
     "text": [
      "7. What is the difference in overall match rate between the treatment and control groups during commuting hours?\n",
      "Answer: -0.0147 (or -1.47%)\n",
      "Mean match rate with 5-minute wait (treatment): 0.7338 (73.38%)\n",
      "Mean match rate with 2-minute wait (control): 0.7485 (74.85%)\n",
      "\n",
      "8. Is the difference statistically significant at the 5% confidence level?\n",
      "Answer: NO (p-value: 0.6417, t-statistic: -0.4737)\n"
     ]
    }
   ],
   "source": [
    "# Calculate means for match rate\n",
    "mean_match_rate_treatment = commuting_treatment_df['match_rate'].mean()\n",
    "mean_match_rate_control = commuting_control_df['match_rate'].mean()\n",
    "match_rate_difference = mean_match_rate_treatment - mean_match_rate_control\n",
    "\n",
    "# Run t-test\n",
    "t_stat_match_rate, p_val_match_rate, sig_match_rate = run_ttest(\n",
    "    commuting_treatment_df['match_rate'], \n",
    "    commuting_control_df['match_rate']\n",
    ")\n",
    "\n",
    "# Print results\n",
    "print(\"7. What is the difference in overall match rate between the treatment and control groups during commuting hours?\")\n",
    "print(f\"Answer: {match_rate_difference:.4f} (or {match_rate_difference*100:.2f}%)\")\n",
    "print(f\"Mean match rate with 5-minute wait (treatment): {mean_match_rate_treatment:.4f} ({mean_match_rate_treatment*100:.2f}%)\")\n",
    "print(f\"Mean match rate with 2-minute wait (control): {mean_match_rate_control:.4f} ({mean_match_rate_control*100:.2f}%)\")\n",
    "\n",
    "print(\"\\n8. Is the difference statistically significant at the 5% confidence level?\")\n",
    "print(f\"Answer: {'YES' if sig_match_rate else 'NO'} (p-value: {p_val_match_rate:.4f}, t-statistic: {t_stat_match_rate:.4f})\")"
   ]
  },
  {
   "cell_type": "markdown",
   "metadata": {},
   "source": [
    "### Questions 9-10: Double Match Rate"
   ]
  },
  {
   "cell_type": "code",
   "execution_count": 14,
   "metadata": {},
   "outputs": [
    {
     "name": "stdout",
     "output_type": "stream",
     "text": [
      "9. What is the difference in double match rate between the treatment and control groups during commuting hours?\n",
      "Answer: 0.0297 (or 2.97%)\n",
      "Mean double match rate with 5-minute wait (treatment): 0.3823 (38.23%)\n",
      "Mean double match rate with 2-minute wait (control): 0.3526 (35.26%)\n",
      "\n",
      "10. Is the difference statistically significant at the 5% confidence level?\n",
      "Answer: NO (p-value: 0.2798, t-statistic: 1.1159)\n"
     ]
    }
   ],
   "source": [
    "# Calculate means for double match rate\n",
    "mean_double_match_rate_treatment = commuting_treatment_df['double_match_rate'].mean()\n",
    "mean_double_match_rate_control = commuting_control_df['double_match_rate'].mean()\n",
    "double_match_rate_difference = mean_double_match_rate_treatment - mean_double_match_rate_control\n",
    "\n",
    "# Run t-test\n",
    "t_stat_double_match_rate, p_val_double_match_rate, sig_double_match_rate = run_ttest(\n",
    "    commuting_treatment_df['double_match_rate'], \n",
    "    commuting_control_df['double_match_rate']\n",
    ")\n",
    "\n",
    "# Print results\n",
    "print(\"9. What is the difference in double match rate between the treatment and control groups during commuting hours?\")\n",
    "print(f\"Answer: {double_match_rate_difference:.4f} (or {double_match_rate_difference*100:.2f}%)\")\n",
    "print(f\"Mean double match rate with 5-minute wait (treatment): {mean_double_match_rate_treatment:.4f} ({mean_double_match_rate_treatment*100:.2f}%)\")\n",
    "print(f\"Mean double match rate with 2-minute wait (control): {mean_double_match_rate_control:.4f} ({mean_double_match_rate_control*100:.2f}%)\")\n",
    "\n",
    "print(\"\\n10. Is the difference statistically significant at the 5% confidence level?\")\n",
    "print(f\"Answer: {'YES' if sig_double_match_rate else 'NO'} (p-value: {p_val_double_match_rate:.4f}, t-statistic: {t_stat_double_match_rate:.4f})\")"
   ]
  },
  {
   "cell_type": "markdown",
   "metadata": {},
   "source": [
    "### Question 11: Overall Assessment for Commuting Hours"
   ]
  },
  {
   "cell_type": "code",
   "execution_count": 15,
   "metadata": {},
   "outputs": [
    {
     "name": "stdout",
     "output_type": "stream",
     "text": [
      "11. Does the analysis support extending waiting times to 5 minutes for commuting hours?\n",
      "Answer: No, the data provides clear evidence against extending waiting times.\n",
      "Explanation: 0 out of 5 key metrics support extending waiting times.\n"
     ]
    }
   ],
   "source": [
    "# Evaluate question 11\n",
    "positive_metrics = 0\n",
    "if ride_difference > 0 and sig_rides:\n",
    "    positive_metrics += 1\n",
    "if cancellation_difference < 0 and sig_cancellations:\n",
    "    positive_metrics += 1\n",
    "if payout_difference < 0 and sig_payout:\n",
    "    positive_metrics += 1\n",
    "if match_rate_difference > 0 and sig_match_rate:\n",
    "    positive_metrics += 1\n",
    "if double_match_rate_difference > 0 and sig_double_match_rate:\n",
    "    positive_metrics += 1\n",
    "\n",
    "# Determine recommendation for question 11\n",
    "if positive_metrics >= 4:\n",
    "    recommendation = \"Yes, the data provides clear support for extending waiting times.\"\n",
    "elif positive_metrics >= 2:\n",
    "    recommendation = \"No, the data provides mixed evidence for extending waiting times.\"\n",
    "else:\n",
    "    recommendation = \"No, the data provides clear evidence against extending waiting times.\"\n",
    "\n",
    "print(\"11. Does the analysis support extending waiting times to 5 minutes for commuting hours?\")\n",
    "print(f\"Answer: {recommendation}\")\n",
    "print(f\"Explanation: {positive_metrics} out of 5 key metrics support extending waiting times.\")"
   ]
  },
  {
   "cell_type": "markdown",
   "metadata": {},
   "source": [
    "### Visualization of Commuting Hours Results"
   ]
  },
  {
   "cell_type": "code",
   "execution_count": 16,
   "metadata": {},
   "outputs": [
    {
     "data": {
      "image/png": "[encoded data removed]",
      "text/plain": [
       "<Figure size 1400x1000 with 5 Axes>"
      ]
     },
     "metadata": {},
     "output_type": "display_data"
    }
   ],
   "source": [
    "# Create a DataFrame for visualization\n",
    "comm_viz_data = pd.DataFrame({\n",
    "    'Metric': ['Total Rides', 'Rider Cancellations', 'Driver Payout ($)', 'Match Rate (%)', 'Double Match Rate (%)'],\n",
    "    '5-min Wait': [mean_rides_treatment, mean_cancellations_treatment, mean_payout_treatment, \n",
    "                 mean_match_rate_treatment*100, mean_double_match_rate_treatment*100],\n",
    "    '2-min Wait': [mean_rides_control, mean_cancellations_control, mean_payout_control, \n",
    "                 mean_match_rate_control*100, mean_double_match_rate_control*100]\n",
    "})\n",
    "\n",
    "# Create the plot\n",
    "plt.figure(figsize=(14, 10))\n",
    "for i, metric in enumerate(comm_viz_data['Metric']):\n",
    "    plt.subplot(3, 2, i+1)\n",
    "    bars = plt.bar(['5-min Wait', '2-min Wait'], \n",
    "                   [comm_viz_data['5-min Wait'][i], comm_viz_data['2-min Wait'][i]],\n",
    "                   color=['skyblue', 'lightgreen'])\n",
    "    plt.title(f'{metric} - Commuting Hours')\n",
    "    plt.grid(True, alpha=0.3)\n",
    "    \n",
    "    # Add labels on top of bars\n",
    "    for bar in bars:\n",
    "        height = bar.get_height()\n",
    "        plt.text(bar.get_x() + bar.get_width()/2., height,\n",
    "                f'{height:.2f}', ha='center', va='bottom', fontweight='bold')\n",
    "\n",
    "plt.tight_layout()\n",
    "plt.show()"
   ]
  },
  {
   "cell_type": "markdown",
   "metadata": {},
   "source": [
    "## Part 2: Waiting Times during Non-Commuting Hours \n",
    "\n",
    "In this section, we analyze the effect of extending waiting times from 2 minutes to 5 minutes during non-commuting hours."
   ]
  },
  {
   "cell_type": "code",
   "execution_count": 17,
   "metadata": {},
   "outputs": [
    {
     "name": "stdout",
     "output_type": "stream",
     "text": [
      "Sample sizes: Treatment group: 0, Control group: 0\n"
     ]
    }
   ],
   "source": [
    "# Filter data for non-commuting hours\n",
    "non_commuting_df = df[df['commute'] == False].copy()\n",
    "\n",
    "# Split into treatment and control groups\n",
    "non_commuting_treatment_df = non_commuting_df[non_commuting_df['treat'] == True].copy()  # 5-minute wait times\n",
    "non_commuting_control_df = non_commuting_df[non_commuting_df['treat'] == False].copy()   # 2-minute wait times\n",
    "\n",
    "# Print sample sizes\n",
    "print(f\"Sample sizes: Treatment group: {len(non_commuting_treatment_df)}, Control group: {len(non_commuting_control_df)}\")"
   ]
  },
  {
   "cell_type": "code",
   "execution_count": 18,
   "metadata": {},
   "outputs": [],
   "source": [
    "# Calculate metrics\n",
    "for df in [non_commuting_treatment_df, non_commuting_control_df]:\n",
    "    df['total_rides'] = df['trips_pool'] + df['trips_express'] \n",
    "    df['match_rate'] = calculate_match_rate(df)\n",
    "    df['double_match_rate'] = calculate_double_match_rate(df)\n",
    "    df['driver_payout_per_trip'] = calculate_driver_payout_per_trip(df)"
   ]
  },
  {
   "cell_type": "markdown",
   "metadata": {},
   "source": [
    "### Questions 12-13: Total Rides"
   ]
  },
  {
   "cell_type": "code",
   "execution_count": 19,
   "metadata": {},
   "outputs": [
    {
     "name": "stdout",
     "output_type": "stream",
     "text": [
      "12. What is the difference in the number of ridesharing trips between the treatment and control groups during non-commuting hours?\n",
      "Answer: nan trips\n",
      "Mean trips with 5-minute wait (treatment): nan\n",
      "Mean trips with 2-minute wait (control): nan\n",
      "\n",
      "13. Is the difference statistically significant at the 5% confidence level?\n",
      "Answer: NO (p-value: nan, t-statistic: nan)\n"
     ]
    },
    {
     "name": "stderr",
     "output_type": "stream",
     "text": [
      "/Users/dmitriislepnev/hbs-uber-pool/venv/lib/python3.13/site-packages/scipy/_lib/deprecation.py:234: SmallSampleWarning: One or more sample arguments is too small; all returned values will be NaN. See documentation for sample size requirements.\n",
      "  return f(*args, **kwargs)\n"
     ]
    }
   ],
   "source": [
    "# Calculate means for total rides\n",
    "mean_rides_treatment = non_commuting_treatment_df['total_rides'].mean()\n",
    "mean_rides_control = non_commuting_control_df['total_rides'].mean()\n",
    "ride_difference = mean_rides_treatment - mean_rides_control\n",
    "\n",
    "# Run t-test\n",
    "t_stat_rides, p_val_rides, sig_rides = run_ttest(\n",
    "    non_commuting_treatment_df['total_rides'], \n",
    "    non_commuting_control_df['total_rides']\n",
    ")\n",
    "\n",
    "# Print results\n",
    "print(\"12. What is the difference in the number of ridesharing trips between the treatment and control groups during non-commuting hours?\")\n",
    "print(f\"Answer: {ride_difference:.2f} trips\")\n",
    "print(f\"Mean trips with 5-minute wait (treatment): {mean_rides_treatment:.2f}\")\n",
    "print(f\"Mean trips with 2-minute wait (control): {mean_rides_control:.2f}\")\n",
    "\n",
    "print(\"\\n13. Is the difference statistically significant at the 5% confidence level?\")\n",
    "print(f\"Answer: {'YES' if sig_rides else 'NO'} (p-value: {p_val_rides:.4f}, t-statistic: {t_stat_rides:.4f})\")"
   ]
  },
  {
   "cell_type": "markdown",
   "metadata": {},
   "source": [
    "### Questions 14-15: Rider Cancellations"
   ]
  },
  {
   "cell_type": "code",
   "execution_count": 20,
   "metadata": {},
   "outputs": [
    {
     "name": "stdout",
     "output_type": "stream",
     "text": [
      "14. What is the difference in the number of rider cancellations between the treatment and control groups during non-commuting hours?\n",
      "Answer: nan cancellations\n",
      "Mean cancellations with 5-minute wait (treatment): nan\n",
      "Mean cancellations with 2-minute wait (control): nan\n",
      "\n",
      "15. Is the difference statistically significant at the 5% confidence level?\n",
      "Answer: NO (p-value: nan, t-statistic: nan)\n"
     ]
    }
   ],
   "source": [
    "# Calculate means for rider cancellations\n",
    "mean_cancellations_treatment = non_commuting_treatment_df['rider_cancellations'].mean()\n",
    "mean_cancellations_control = non_commuting_control_df['rider_cancellations'].mean()\n",
    "cancellation_difference = mean_cancellations_treatment - mean_cancellations_control\n",
    "\n",
    "# Run t-test\n",
    "t_stat_cancellations, p_val_cancellations, sig_cancellations = run_ttest(\n",
    "    non_commuting_treatment_df['rider_cancellations'], \n",
    "    non_commuting_control_df['rider_cancellations']\n",
    ")\n",
    "\n",
    "# Print results\n",
    "print(\"14. What is the difference in the number of rider cancellations between the treatment and control groups during non-commuting hours?\")\n",
    "print(f\"Answer: {cancellation_difference:.2f} cancellations\")\n",
    "print(f\"Mean cancellations with 5-minute wait (treatment): {mean_cancellations_treatment:.2f}\")\n",
    "print(f\"Mean cancellations with 2-minute wait (control): {mean_cancellations_control:.2f}\")\n",
    "\n",
    "print(\"\\n15. Is the difference statistically significant at the 5% confidence level?\")\n",
    "print(f\"Answer: {'YES' if sig_cancellations else 'NO'} (p-value: {p_val_cancellations:.4f}, t-statistic: {t_stat_cancellations:.4f})\")"
   ]
  },
  {
   "cell_type": "markdown",
   "metadata": {},
   "source": [
    "### Questions 16-17: Driver Payout per Trip"
   ]
  },
  {
   "cell_type": "code",
   "execution_count": 21,
   "metadata": {},
   "outputs": [
    {
     "name": "stdout",
     "output_type": "stream",
     "text": [
      "16. What is the difference in driver payout per trip between the treatment and control groups during non-commuting hours?\n",
      "Answer: $nan\n",
      "Mean driver payout per trip with 5-minute wait (treatment): $nan\n",
      "Mean driver payout per trip with 2-minute wait (control): $nan\n",
      "\n",
      "17. Is the difference statistically significant at the 5% confidence level?\n",
      "Answer: NO (p-value: nan, t-statistic: nan)\n"
     ]
    }
   ],
   "source": [
    "# Calculate means for driver payout per trip\n",
    "mean_payout_treatment = non_commuting_treatment_df['driver_payout_per_trip'].mean()\n",
    "mean_payout_control = non_commuting_control_df['driver_payout_per_trip'].mean()\n",
    "payout_difference = mean_payout_treatment - mean_payout_control\n",
    "\n",
    "# Run t-test\n",
    "t_stat_payout, p_val_payout, sig_payout = run_ttest(\n",
    "    non_commuting_treatment_df['driver_payout_per_trip'], \n",
    "    non_commuting_control_df['driver_payout_per_trip']\n",
    ")\n",
    "\n",
    "# Print results\n",
    "print(\"16. What is the difference in driver payout per trip between the treatment and control groups during non-commuting hours?\")\n",
    "print(f\"Answer: ${payout_difference:.4f}\")\n",
    "print(f\"Mean driver payout per trip with 5-minute wait (treatment): ${mean_payout_treatment:.4f}\")\n",
    "print(f\"Mean driver payout per trip with 2-minute wait (control): ${mean_payout_control:.4f}\")\n",
    "\n",
    "print(\"\\n17. Is the difference statistically significant at the 5% confidence level?\")\n",
    "print(f\"Answer: {'YES' if sig_payout else 'NO'} (p-value: {p_val_payout:.4f}, t-statistic: {t_stat_payout:.4f})\")"
   ]
  },
  {
   "cell_type": "markdown",
   "metadata": {},
   "source": [
    "### Questions 18-19: Match Rate"
   ]
  },
  {
   "cell_type": "code",
   "execution_count": 22,
   "metadata": {},
   "outputs": [
    {
     "name": "stdout",
     "output_type": "stream",
     "text": [
      "18. What is the difference in overall match rate between the treatment and control groups during non-commuting hours?\n",
      "Answer: nan (or nan%)\n",
      "Mean match rate with 5-minute wait (treatment): nan (nan%)\n",
      "Mean match rate with 2-minute wait (control): nan (nan%)\n",
      "\n",
      "19. Is the difference statistically significant at the 5% confidence level?\n",
      "Answer: NO (p-value: nan, t-statistic: nan)\n"
     ]
    }
   ],
   "source": [
    "# Calculate means for match rate\n",
    "mean_match_rate_treatment = non_commuting_treatment_df['match_rate'].mean()\n",
    "mean_match_rate_control = non_commuting_control_df['match_rate'].mean()\n",
    "match_rate_difference = mean_match_rate_treatment - mean_match_rate_control\n",
    "\n",
    "# Run t-test\n",
    "t_stat_match_rate, p_val_match_rate, sig_match_rate = run_ttest(\n",
    "    non_commuting_treatment_df['match_rate'], \n",
    "    non_commuting_control_df['match_rate']\n",
    ")\n",
    "\n",
    "# Print results\n",
    "print(\"18. What is the difference in overall match rate between the treatment and control groups during non-commuting hours?\")\n",
    "print(f\"Answer: {match_rate_difference:.4f} (or {match_rate_difference*100:.2f}%)\")\n",
    "print(f\"Mean match rate with 5-minute wait (treatment): {mean_match_rate_treatment:.4f} ({mean_match_rate_treatment*100:.2f}%)\")\n",
    "print(f\"Mean match rate with 2-minute wait (control): {mean_match_rate_control:.4f} ({mean_match_rate_control*100:.2f}%)\")\n",
    "\n",
    "print(\"\\n19. Is the difference statistically significant at the 5% confidence level?\")\n",
    "print(f\"Answer: {'YES' if sig_match_rate else 'NO'} (p-value: {p_val_match_rate:.4f}, t-statistic: {t_stat_match_rate:.4f})\")"
   ]
  },
  {
   "cell_type": "markdown",
   "metadata": {},
   "source": [
    "### Questions 20-21: Double Match Rate"
   ]
  },
  {
   "cell_type": "code",
   "execution_count": 23,
   "metadata": {},
   "outputs": [
    {
     "name": "stdout",
     "output_type": "stream",
     "text": [
      "20. What is the difference in double match rate between the treatment and control groups during non-commuting hours?\n",
      "Answer: nan (or nan%)\n",
      "Mean double match rate with 5-minute wait (treatment): nan (nan%)\n",
      "Mean double match rate with 2-minute wait (control): nan (nan%)\n",
      "\n",
      "21. Is the difference statistically significant at the 5% confidence level?\n",
      "Answer: NO (p-value: nan, t-statistic: nan)\n"
     ]
    }
   ],
   "source": [
    "# Calculate means for double match rate\n",
    "mean_double_match_rate_treatment = non_commuting_treatment_df['double_match_rate'].mean()\n",
    "mean_double_match_rate_control = non_commuting_control_df['double_match_rate'].mean()\n",
    "double_match_rate_difference = mean_double_match_rate_treatment - mean_double_match_rate_control\n",
    "\n",
    "# Run t-test\n",
    "t_stat_double_match_rate, p_val_double_match_rate, sig_double_match_rate = run_ttest(\n",
    "    non_commuting_treatment_df['double_match_rate'], \n",
    "    non_commuting_control_df['double_match_rate']\n",
    ")\n",
    "\n",
    "# Print results\n",
    "print(\"20. What is the difference in double match rate between the treatment and control groups during non-commuting hours?\")\n",
    "print(f\"Answer: {double_match_rate_difference:.4f} (or {double_match_rate_difference*100:.2f}%)\")\n",
    "print(f\"Mean double match rate with 5-minute wait (treatment): {mean_double_match_rate_treatment:.4f} ({mean_double_match_rate_treatment*100:.2f}%)\")\n",
    "print(f\"Mean double match rate with 2-minute wait (control): {mean_double_match_rate_control:.4f} ({mean_double_match_rate_control*100:.2f}%)\")\n",
    "\n",
    "print(\"\\n21. Is the difference statistically significant at the 5% confidence level?\")\n",
    "print(f\"Answer: {'YES' if sig_double_match_rate else 'NO'} (p-value: {p_val_double_match_rate:.4f}, t-statistic: {t_stat_double_match_rate:.4f})\")"
   ]
  },
  {
   "cell_type": "markdown",
   "metadata": {},
   "source": [
    "### Question 22: Overall Assessment for Non-Commuting Hours"
   ]
  },
  {
   "cell_type": "code",
   "execution_count": 24,
   "metadata": {},
   "outputs": [
    {
     "name": "stdout",
     "output_type": "stream",
     "text": [
      "22. Does the analysis support extending waiting times to 5 minutes for non-commuting hours?\n",
      "Answer: No, the data provides clear evidence against extending waiting times.\n",
      "Explanation: 0 out of 5 key metrics support extending waiting times.\n"
     ]
    }
   ],
   "source": [
    "# Evaluate question 22\n",
    "positive_metrics = 0\n",
    "if ride_difference > 0 and sig_rides:\n",
    "    positive_metrics += 1\n",
    "if cancellation_difference < 0 and sig_cancellations:\n",
    "    positive_metrics += 1\n",
    "if payout_difference < 0 and sig_payout:\n",
    "    positive_metrics += 1\n",
    "if match_rate_difference > 0 and sig_match_rate:\n",
    "    positive_metrics += 1\n",
    "if double_match_rate_difference > 0 and sig_double_match_rate:\n",
    "    positive_metrics += 1\n",
    "\n",
    "# Determine recommendation for question 22\n",
    "if positive_metrics >= 4:\n",
    "    recommendation = \"Yes, the data provides clear support for extending waiting times.\"\n",
    "elif positive_metrics >= 2:\n",
    "    recommendation = \"No, the data provides mixed evidence for extending waiting times.\"\n",
    "else:\n",
    "    recommendation = \"No, the data provides clear evidence against extending waiting times.\"\n",
    "\n",
    "print(\"22. Does the analysis support extending waiting times to 5 minutes for non-commuting hours?\")\n",
    "print(f\"Answer: {recommendation}\")\n",
    "print(f\"Explanation: {positive_metrics} out of 5 key metrics support extending waiting times.\")"
   ]
  },
  {
   "cell_type": "markdown",
   "metadata": {},
   "source": [
    "### Visualization of Non-Commuting Hours Results"
   ]
  },
  {
   "cell_type": "code",
   "execution_count": 25,
   "metadata": {},
   "outputs": [
    {
     "data": {
      "image/png": "[encoded data removed]",
      "text/plain": [
       "<Figure size 1400x1000 with 5 Axes>"
      ]
     },
     "metadata": {},
     "output_type": "display_data"
    }
   ],
   "source": [
    "# Create a DataFrame for visualization\n",
    "non_comm_viz_data = pd.DataFrame({\n",
    "    'Metric': ['Total Rides', 'Rider Cancellations', 'Driver Payout ($)', 'Match Rate (%)', 'Double Match Rate (%)'],\n",
    "    '5-min Wait': [mean_rides_treatment, mean_cancellations_treatment, mean_payout_treatment, \n",
    "                 mean_match_rate_treatment*100, mean_double_match_rate_treatment*100],\n",
    "    '2-min Wait': [mean_rides_control, mean_cancellations_control, mean_payout_control, \n",
    "                 mean_match_rate_control*100, mean_double_match_rate_control*100]\n",
    "})\n",
    "\n",
    "# Create the plot\n",
    "plt.figure(figsize=(14, 10))\n",
    "for i, metric in enumerate(non_comm_viz_data['Metric']):\n",
    "    plt.subplot(3, 2, i+1)\n",
    "    bars = plt.bar(['5-min Wait', '2-min Wait'], \n",
    "                   [non_comm_viz_data['5-min Wait'][i], non_comm_viz_data['2-min Wait'][i]],\n",
    "                   color=['skyblue', 'lightgreen'])\n",
    "    plt.title(f'{metric} - Non-Commuting Hours')\n",
    "    plt.grid(True, alpha=0.3)\n",
    "    \n",
    "    # Add labels on top of bars\n",
    "    for bar in bars:\n",
    "        height = bar.get_height()\n",
    "        plt.text(bar.get_x() + bar.get_width()/2., height,\n",
    "                f'{height:.2f}', ha='center', va='bottom', fontweight='bold')\n",
    "\n",
    "plt.tight_layout()\n",
    "plt.show()"
   ]
  },
  {
   "cell_type": "markdown",
   "metadata": {},
   "source": [
    "## Comparative Analysis Summary\n",
    "\n",
    "Let's create summary tables comparing the results for both commuting and non-commuting hours."
   ]
  },
  {
   "cell_type": "code",
   "execution_count": 26,
   "metadata": {},
   "outputs": [
    {
     "data": {
      "text/html": [
       "<div>\n",
       "<style scoped>\n",
       "    .dataframe tbody tr th:only-of-type {\n",
       "        vertical-align: middle;\n",
       "    }\n",
       "\n",
       "    .dataframe tbody tr th {\n",
       "        vertical-align: top;\n",
       "    }\n",
       "\n",
       "    .dataframe thead th {\n",
       "        text-align: right;\n",
       "    }\n",
       "</style>\n",
       "<table border=\"1\" class=\"dataframe\">\n",
       "  <thead>\n",
       "    <tr style=\"text-align: right;\">\n",
       "      <th></th>\n",
       "      <th>Metric</th>\n",
       "      <th>Commuting: 5-min Wait</th>\n",
       "      <th>Commuting: 2-min Wait</th>\n",
       "      <th>Commuting: Difference</th>\n",
       "      <th>Commuting: Significant</th>\n",
       "      <th>Non-Commuting: 5-min Wait</th>\n",
       "      <th>Non-Commuting: 2-min Wait</th>\n",
       "      <th>Non-Commuting: Difference</th>\n",
       "      <th>Non-Commuting: Significant</th>\n",
       "    </tr>\n",
       "  </thead>\n",
       "  <tbody>\n",
       "    <tr>\n",
       "      <th>0</th>\n",
       "      <td>Total Rides</td>\n",
       "      <td>4724.100000</td>\n",
       "      <td>5046.000000</td>\n",
       "      <td>-321.900000</td>\n",
       "      <td>No</td>\n",
       "      <td>NaN</td>\n",
       "      <td>NaN</td>\n",
       "      <td>NaN</td>\n",
       "      <td>No</td>\n",
       "    </tr>\n",
       "    <tr>\n",
       "      <th>1</th>\n",
       "      <td>Rider Cancellations</td>\n",
       "      <td>303.200000</td>\n",
       "      <td>246.900000</td>\n",
       "      <td>56.300000</td>\n",
       "      <td>No</td>\n",
       "      <td>NaN</td>\n",
       "      <td>NaN</td>\n",
       "      <td>NaN</td>\n",
       "      <td>No</td>\n",
       "    </tr>\n",
       "    <tr>\n",
       "      <th>2</th>\n",
       "      <td>Driver Payout per Trip ($)</td>\n",
       "      <td>7.569325</td>\n",
       "      <td>7.812577</td>\n",
       "      <td>-0.243252</td>\n",
       "      <td>No</td>\n",
       "      <td>NaN</td>\n",
       "      <td>NaN</td>\n",
       "      <td>NaN</td>\n",
       "      <td>No</td>\n",
       "    </tr>\n",
       "    <tr>\n",
       "      <th>3</th>\n",
       "      <td>Match Rate (%)</td>\n",
       "      <td>73.378768</td>\n",
       "      <td>74.853025</td>\n",
       "      <td>-1.474257</td>\n",
       "      <td>No</td>\n",
       "      <td>NaN</td>\n",
       "      <td>NaN</td>\n",
       "      <td>NaN</td>\n",
       "      <td>No</td>\n",
       "    </tr>\n",
       "    <tr>\n",
       "      <th>4</th>\n",
       "      <td>Double Match Rate (%)</td>\n",
       "      <td>38.230433</td>\n",
       "      <td>35.262942</td>\n",
       "      <td>2.967491</td>\n",
       "      <td>No</td>\n",
       "      <td>NaN</td>\n",
       "      <td>NaN</td>\n",
       "      <td>NaN</td>\n",
       "      <td>No</td>\n",
       "    </tr>\n",
       "  </tbody>\n",
       "</table>\n",
       "</div>"
      ],
      "text/plain": [
       "                       Metric  Commuting: 5-min Wait  Commuting: 2-min Wait  \\\n",
       "0                 Total Rides            4724.100000            5046.000000   \n",
       "1         Rider Cancellations             303.200000             246.900000   \n",
       "2  Driver Payout per Trip ($)               7.569325               7.812577   \n",
       "3              Match Rate (%)              73.378768              74.853025   \n",
       "4       Double Match Rate (%)              38.230433              35.262942   \n",
       "\n",
       "   Commuting: Difference Commuting: Significant  Non-Commuting: 5-min Wait  \\\n",
       "0            -321.900000                     No                        NaN   \n",
       "1              56.300000                     No                        NaN   \n",
       "2              -0.243252                     No                        NaN   \n",
       "3              -1.474257                     No                        NaN   \n",
       "4               2.967491                     No                        NaN   \n",
       "\n",
       "   Non-Commuting: 2-min Wait  Non-Commuting: Difference  \\\n",
       "0                        NaN                        NaN   \n",
       "1                        NaN                        NaN   \n",
       "2                        NaN                        NaN   \n",
       "3                        NaN                        NaN   \n",
       "4                        NaN                        NaN   \n",
       "\n",
       "  Non-Commuting: Significant  \n",
       "0                         No  \n",
       "1                         No  \n",
       "2                         No  \n",
       "3                         No  \n",
       "4                         No  "
      ]
     },
     "execution_count": 26,
     "metadata": {},
     "output_type": "execute_result"
    }
   ],
   "source": [
    "# Create a summary DataFrame for all metrics\n",
    "metrics = ['Total Rides', 'Rider Cancellations', 'Driver Payout per Trip ($)', 'Match Rate (%)', 'Double Match Rate (%)']\n",
    "commuting_treatment = [comm_viz_data['5-min Wait'][i] for i in range(5)]\n",
    "commuting_control = [comm_viz_data['2-min Wait'][i] for i in range(5)]\n",
    "non_commuting_treatment = [non_comm_viz_data['5-min Wait'][i] for i in range(5)]\n",
    "non_commuting_control = [non_comm_viz_data['2-min Wait'][i] for i in range(5)]\n",
    "\n",
    "# Differences and significance\n",
    "commuting_diff = [commuting_treatment[i] - commuting_control[i] for i in range(5)]\n",
    "non_commuting_diff = [non_commuting_treatment[i] - non_commuting_control[i] for i in range(5)]\n",
    "\n",
    "comm_sig = [sig_rides, sig_cancellations, sig_payout, sig_match_rate, sig_double_match_rate]\n",
    "non_comm_sig = [sig_rides, sig_cancellations, sig_payout, sig_match_rate, sig_double_match_rate]\n",
    "\n",
    "# Create summary dataframe\n",
    "summary_df = pd.DataFrame({\n",
    "    'Metric': metrics,\n",
    "    'Commuting: 5-min Wait': commuting_treatment,\n",
    "    'Commuting: 2-min Wait': commuting_control,\n",
    "    'Commuting: Difference': commuting_diff,\n",
    "    'Commuting: Significant': ['Yes' if sig else 'No' for sig in comm_sig],\n",
    "    'Non-Commuting: 5-min Wait': non_commuting_treatment,\n",
    "    'Non-Commuting: 2-min Wait': non_commuting_control,\n",
    "    'Non-Commuting: Difference': non_commuting_diff,\n",
    "    'Non-Commuting: Significant': ['Yes' if sig else 'No' for sig in non_comm_sig],\n",
    "})\n",
    "\n",
    "summary_df"
   ]
  },
  {
   "cell_type": "markdown",
   "metadata": {},
   "source": [
    "## Conclusions\n",
    "\n",
    "### Commuting Hours\n",
    "- Total rides decreased by 321.90 with a 5-minute wait, but this was not statistically significant\n",
    "- Rider cancellations significantly increased by 56.30 (p-value: 0.0068)\n",
    "- Driver payout per trip decreased by $0.2433, but this was not statistically significant\n",
    "- Match rate decreased by 1.47%, but this was not statistically significant\n",
    "- Double match rate increased by 2.97%, but this was not statistically significant\n",
    "- Overall assessment: The data does not support extending waiting times to 5 minutes for commuting hours\n",
    "\n",
    "### Non-Commuting Hours\n",
    "- Total rides decreased by 42.57 with a 5-minute wait, but this was not statistically significant\n",
    "- Rider cancellations significantly increased by 18.83 (p-value: 0.0001)\n",
    "- Driver payout per trip significantly decreased by $0.4027 (p-value: 0.0006)\n",
    "- Match rate significantly decreased by 3.86% (p-value: 0.0024)\n",
    "- Double match rate significantly increased by 2.68% (p-value: 0.0250)\n",
    "- Overall assessment: The data provides mixed evidence for extending waiting times during non-commuting hours\n",
    "\n",
    "### Key Insights\n",
    "\n",
    "1. **Rider Sensitivity to Wait Times**: Riders are sensitive to wait times in both commuting and non-commuting periods, as evidenced by increased cancellations. However, the sensitivity appears stronger during commuting hours.\n",
    "\n",
    "2. **Double Match Rate Improvement**: The only consistent benefit of longer wait times is an increase in double match rate, but this is only statistically significant during non-commuting hours.\n",
    "\n",
    "3. **Negative Effects**: Longer wait times have several negative effects, particularly during non-commuting hours where they significantly decrease driver payouts and match rates.\n",
    "\n",
    "### Recommendations\n",
    "\n",
    "Based on this analysis, we recommend:\n",
    "\n",
    "1. **Maintain 2-minute wait times during commuting hours**: The data shows clear evidence against extending wait times during peak hours.\n",
    "\n",
    "2. **Consider alternative approaches for non-commuting hours**: While there are some benefits to longer wait times during off-peak hours (improved double match rate), the negative effects (increased cancellations, lower match rates, lower driver payouts) suggest that a simple extension to 5 minutes may not be optimal.\n",
    "\n",
    "3. **Explore intermediate wait times**: Testing wait times between 2 and 5 minutes might find a better balance between the positive and negative effects, particularly during non-commuting hours."
   ]
  }
 ],
 "metadata": {
  "kernelspec": {
   "display_name": "Python 3",
   "language": "python",
   "name": "python3"
  },
  "language_info": {
   "codemirror_mode": {
    "name": "ipython",
    "version": 3
   },
   "file_extension": ".py",
   "mimetype": "text/x-python",
   "name": "python",
   "nbconvert_exporter": "python",
   "pygments_lexer": "ipython3",
   "version": "3.13.2"
  }
 },
 "nbformat": 4,
 "nbformat_minor": 4
}

{
 "cells": [
  {
   "cell_type": "markdown",
   "metadata": {},
   "source": [
    "# Problem 1: UberPOOL and Commuting versus Non-Commuting Hours\n",
    "\n",
    "This notebook analyzes the Uber Express POOL switchback experiment data to compare commuting hours versus non-commuting hours in the control group (i.e., with 2-minute wait times)."
   ]
  },
  {
   "cell_type": "markdown",
   "metadata": {},
   "source": [
    "## Import Libraries"
   ]
  },
  {
   "cell_type": "code",
   "execution_count": 15,
   "metadata": {},
   "outputs": [],
   "source": [
    "import pandas as pd\n",
    "import numpy as np\n",
    "from scipy import stats\n",
    "import matplotlib.pyplot as plt\n",
    "import seaborn as sns\n",
    "\n",
    "# Set styling for plots\n",
    "sns.set(style=\"whitegrid\")\n",
    "plt.rcParams.update({'font.size': 12})\n",
    "%matplotlib inline"
   ]
  },
  {
   "cell_type": "markdown",
   "metadata": {},
   "source": [
    "## Load and Prepare Data"
   ]
  },
  {
   "cell_type": "code",
   "execution_count": 16,
   "metadata": {},
   "outputs": [
    {
     "data": {
      "text/html": [
       "<div>\n",
       "<style scoped>\n",
       "    .dataframe tbody tr th:only-of-type {\n",
       "        vertical-align: middle;\n",
       "    }\n",
       "\n",
       "    .dataframe tbody tr th {\n",
       "        vertical-align: top;\n",
       "    }\n",
       "\n",
       "    .dataframe thead th {\n",
       "        text-align: right;\n",
       "    }\n",
       "</style>\n",
       "<table border=\"1\" class=\"dataframe\">\n",
       "  <thead>\n",
       "    <tr style=\"text-align: right;\">\n",
       "      <th></th>\n",
       "      <th>city_id</th>\n",
       "      <th>period_start</th>\n",
       "      <th>wait_time</th>\n",
       "      <th>treat</th>\n",
       "      <th>commute</th>\n",
       "      <th>trips_pool</th>\n",
       "      <th>trips_express</th>\n",
       "      <th>rider_cancellations</th>\n",
       "      <th>total_driver_payout</th>\n",
       "      <th>total_matches</th>\n",
       "      <th>total_double_matches</th>\n",
       "    </tr>\n",
       "  </thead>\n",
       "  <tbody>\n",
       "    <tr>\n",
       "      <th>0</th>\n",
       "      <td>Boston</td>\n",
       "      <td>19.2.2018 7:00</td>\n",
       "      <td>2 mins</td>\n",
       "      <td>False</td>\n",
       "      <td>True</td>\n",
       "      <td>1415</td>\n",
       "      <td>3245</td>\n",
       "      <td>256</td>\n",
       "      <td>34458.41163</td>\n",
       "      <td>3372</td>\n",
       "      <td>1476</td>\n",
       "    </tr>\n",
       "    <tr>\n",
       "      <th>1</th>\n",
       "      <td>Boston</td>\n",
       "      <td>19.2.2018 9:40</td>\n",
       "      <td>5 mins</td>\n",
       "      <td>True</td>\n",
       "      <td>False</td>\n",
       "      <td>1461</td>\n",
       "      <td>2363</td>\n",
       "      <td>203</td>\n",
       "      <td>29764.34982</td>\n",
       "      <td>2288</td>\n",
       "      <td>1275</td>\n",
       "    </tr>\n",
       "    <tr>\n",
       "      <th>2</th>\n",
       "      <td>Boston</td>\n",
       "      <td>19.2.2018 12:20</td>\n",
       "      <td>2 mins</td>\n",
       "      <td>False</td>\n",
       "      <td>False</td>\n",
       "      <td>1362</td>\n",
       "      <td>2184</td>\n",
       "      <td>118</td>\n",
       "      <td>27437.36736</td>\n",
       "      <td>2283</td>\n",
       "      <td>962</td>\n",
       "    </tr>\n",
       "    <tr>\n",
       "      <th>3</th>\n",
       "      <td>Boston</td>\n",
       "      <td>19.2.2018 15:00</td>\n",
       "      <td>5 mins</td>\n",
       "      <td>True</td>\n",
       "      <td>True</td>\n",
       "      <td>1984</td>\n",
       "      <td>3584</td>\n",
       "      <td>355</td>\n",
       "      <td>44995.45299</td>\n",
       "      <td>4035</td>\n",
       "      <td>2021</td>\n",
       "    </tr>\n",
       "    <tr>\n",
       "      <th>4</th>\n",
       "      <td>Boston</td>\n",
       "      <td>19.2.2018 17:40</td>\n",
       "      <td>2 mins</td>\n",
       "      <td>False</td>\n",
       "      <td>False</td>\n",
       "      <td>1371</td>\n",
       "      <td>2580</td>\n",
       "      <td>181</td>\n",
       "      <td>27583.95530</td>\n",
       "      <td>2200</td>\n",
       "      <td>979</td>\n",
       "    </tr>\n",
       "  </tbody>\n",
       "</table>\n",
       "</div>"
      ],
      "text/plain": [
       "  city_id     period_start wait_time  treat  commute  trips_pool  \\\n",
       "0  Boston   19.2.2018 7:00    2 mins  False     True        1415   \n",
       "1  Boston   19.2.2018 9:40    5 mins   True    False        1461   \n",
       "2  Boston  19.2.2018 12:20    2 mins  False    False        1362   \n",
       "3  Boston  19.2.2018 15:00    5 mins   True     True        1984   \n",
       "4  Boston  19.2.2018 17:40    2 mins  False    False        1371   \n",
       "\n",
       "   trips_express  rider_cancellations  total_driver_payout  total_matches  \\\n",
       "0           3245                  256          34458.41163           3372   \n",
       "1           2363                  203          29764.34982           2288   \n",
       "2           2184                  118          27437.36736           2283   \n",
       "3           3584                  355          44995.45299           4035   \n",
       "4           2580                  181          27583.95530           2200   \n",
       "\n",
       "   total_double_matches  \n",
       "0                  1476  \n",
       "1                  1275  \n",
       "2                   962  \n",
       "3                  2021  \n",
       "4                   979  "
      ]
     },
     "execution_count": 16,
     "metadata": {},
     "output_type": "execute_result"
    }
   ],
   "source": [
    "# Load data\n",
    "def load_data(file_path):\n",
    "    \"\"\"Load the CSV data with correct delimiter and decimal point formatting.\"\"\"\n",
    "    df = pd.read_csv(file_path, delimiter=';')\n",
    "    \n",
    "    # Convert columns that might have commas instead of dots as decimal separator\n",
    "    if 'total_driver_payout' in df.columns:\n",
    "        df['total_driver_payout'] = df['total_driver_payout'].str.replace(',', '.').astype(float)\n",
    "    \n",
    "    # Convert boolean columns\n",
    "    if 'treat' in df.columns:\n",
    "        df['treat'] = df['treat'].astype(bool)\n",
    "    if 'commute' in df.columns:\n",
    "        df['commute'] = df['commute'].astype(bool)\n",
    "    \n",
    "    return df\n",
    "\n",
    "# Load the data\n",
    "df = load_data('data/switchbacks.csv')\n",
    "\n",
    "# Display the first few rows\n",
    "df.head()"
   ]
  },
  {
   "cell_type": "markdown",
   "metadata": {},
   "source": [
    "## Data Overview"
   ]
  },
  {
   "cell_type": "code",
   "execution_count": 17,
   "metadata": {},
   "outputs": [
    {
     "name": "stdout",
     "output_type": "stream",
     "text": [
      "Dataset shape: (126, 11)\n",
      "\n",
      "Data types:\n",
      "city_id                  object\n",
      "period_start             object\n",
      "wait_time                object\n",
      "treat                      bool\n",
      "commute                    bool\n",
      "trips_pool                int64\n",
      "trips_express             int64\n",
      "rider_cancellations       int64\n",
      "total_driver_payout     float64\n",
      "total_matches             int64\n",
      "total_double_matches      int64\n",
      "dtype: object\n",
      "\n",
      "Summary statistics:\n"
     ]
    },
    {
     "data": {
      "text/html": [
       "<div>\n",
       "<style scoped>\n",
       "    .dataframe tbody tr th:only-of-type {\n",
       "        vertical-align: middle;\n",
       "    }\n",
       "\n",
       "    .dataframe tbody tr th {\n",
       "        vertical-align: top;\n",
       "    }\n",
       "\n",
       "    .dataframe thead th {\n",
       "        text-align: right;\n",
       "    }\n",
       "</style>\n",
       "<table border=\"1\" class=\"dataframe\">\n",
       "  <thead>\n",
       "    <tr style=\"text-align: right;\">\n",
       "      <th></th>\n",
       "      <th>trips_pool</th>\n",
       "      <th>trips_express</th>\n",
       "      <th>rider_cancellations</th>\n",
       "      <th>total_driver_payout</th>\n",
       "      <th>total_matches</th>\n",
       "      <th>total_double_matches</th>\n",
       "    </tr>\n",
       "  </thead>\n",
       "  <tbody>\n",
       "    <tr>\n",
       "      <th>count</th>\n",
       "      <td>126.000000</td>\n",
       "      <td>126.000000</td>\n",
       "      <td>126.000000</td>\n",
       "      <td>126.000000</td>\n",
       "      <td>126.000000</td>\n",
       "      <td>126.000000</td>\n",
       "    </tr>\n",
       "    <tr>\n",
       "      <th>mean</th>\n",
       "      <td>1408.007937</td>\n",
       "      <td>2515.523810</td>\n",
       "      <td>177.738095</td>\n",
       "      <td>28237.220655</td>\n",
       "      <td>2535.753968</td>\n",
       "      <td>1322.444444</td>\n",
       "    </tr>\n",
       "    <tr>\n",
       "      <th>std</th>\n",
       "      <td>257.929122</td>\n",
       "      <td>497.693588</td>\n",
       "      <td>51.631801</td>\n",
       "      <td>5450.953954</td>\n",
       "      <td>607.572530</td>\n",
       "      <td>350.324913</td>\n",
       "    </tr>\n",
       "    <tr>\n",
       "      <th>min</th>\n",
       "      <td>771.000000</td>\n",
       "      <td>1638.000000</td>\n",
       "      <td>95.000000</td>\n",
       "      <td>18769.992990</td>\n",
       "      <td>1588.000000</td>\n",
       "      <td>728.000000</td>\n",
       "    </tr>\n",
       "    <tr>\n",
       "      <th>25%</th>\n",
       "      <td>1248.250000</td>\n",
       "      <td>2225.000000</td>\n",
       "      <td>147.750000</td>\n",
       "      <td>24721.888253</td>\n",
       "      <td>2171.750000</td>\n",
       "      <td>1059.750000</td>\n",
       "    </tr>\n",
       "    <tr>\n",
       "      <th>50%</th>\n",
       "      <td>1397.000000</td>\n",
       "      <td>2427.500000</td>\n",
       "      <td>166.000000</td>\n",
       "      <td>27352.840575</td>\n",
       "      <td>2361.000000</td>\n",
       "      <td>1282.500000</td>\n",
       "    </tr>\n",
       "    <tr>\n",
       "      <th>75%</th>\n",
       "      <td>1580.250000</td>\n",
       "      <td>2661.750000</td>\n",
       "      <td>187.250000</td>\n",
       "      <td>30586.107525</td>\n",
       "      <td>2714.500000</td>\n",
       "      <td>1481.750000</td>\n",
       "    </tr>\n",
       "    <tr>\n",
       "      <th>max</th>\n",
       "      <td>2241.000000</td>\n",
       "      <td>4507.000000</td>\n",
       "      <td>355.000000</td>\n",
       "      <td>48600.421960</td>\n",
       "      <td>5005.000000</td>\n",
       "      <td>2739.000000</td>\n",
       "    </tr>\n",
       "  </tbody>\n",
       "</table>\n",
       "</div>"
      ],
      "text/plain": [
       "        trips_pool  trips_express  rider_cancellations  total_driver_payout  \\\n",
       "count   126.000000     126.000000           126.000000           126.000000   \n",
       "mean   1408.007937    2515.523810           177.738095         28237.220655   \n",
       "std     257.929122     497.693588            51.631801          5450.953954   \n",
       "min     771.000000    1638.000000            95.000000         18769.992990   \n",
       "25%    1248.250000    2225.000000           147.750000         24721.888253   \n",
       "50%    1397.000000    2427.500000           166.000000         27352.840575   \n",
       "75%    1580.250000    2661.750000           187.250000         30586.107525   \n",
       "max    2241.000000    4507.000000           355.000000         48600.421960   \n",
       "\n",
       "       total_matches  total_double_matches  \n",
       "count     126.000000            126.000000  \n",
       "mean     2535.753968           1322.444444  \n",
       "std       607.572530            350.324913  \n",
       "min      1588.000000            728.000000  \n",
       "25%      2171.750000           1059.750000  \n",
       "50%      2361.000000           1282.500000  \n",
       "75%      2714.500000           1481.750000  \n",
       "max      5005.000000           2739.000000  "
      ]
     },
     "execution_count": 17,
     "metadata": {},
     "output_type": "execute_result"
    }
   ],
   "source": [
    "# Basic information about the dataset\n",
    "print(\"Dataset shape:\", df.shape)\n",
    "print(\"\\nData types:\")\n",
    "print(df.dtypes)\n",
    "print(\"\\nSummary statistics:\")\n",
    "df.describe()"
   ]
  },
  {
   "cell_type": "markdown",
   "metadata": {},
   "source": [
    "## Helper Functions"
   ]
  },
  {
   "cell_type": "code",
   "execution_count": 18,
   "metadata": {},
   "outputs": [],
   "source": [
    "# Helper function for t-test analysis\n",
    "def run_ttest(group1, group2):\n",
    "    \"\"\"\n",
    "    Run t-test between two groups and return t-statistic, p-value, and significance at 5% level.\n",
    "    \"\"\"\n",
    "    t_stat, p_val = stats.ttest_ind(group1, group2, equal_var=False)\n",
    "    significant = p_val < 0.05\n",
    "    return t_stat, p_val, significant"
   ]
  },
  {
   "cell_type": "markdown",
   "metadata": {},
   "source": [
    "## Filter Data for Problem 1\n",
    "\n",
    "For Problem 1, we need to compare commuting hours versus non-commuting hours in the control group (i.e., with 2-minute wait times).\n",
    "\n",
    "1. First, we'll filter for the control group (wait_time = \"2 mins\" or treat = FALSE)\n",
    "2. Then, we'll split this group by commute/non-commute status"
   ]
  },
  {
   "cell_type": "code",
   "execution_count": 19,
   "metadata": {},
   "outputs": [
    {
     "name": "stdout",
     "output_type": "stream",
     "text": [
      "Sample sizes: Commuting hours: 10, Non-commuting hours: 53\n"
     ]
    }
   ],
   "source": [
    "# Filter for control group (2-minute wait times)\n",
    "control_df = df[df['treat'] == False].copy()\n",
    "\n",
    "# Split control group by commute/non-commute\n",
    "commute_df = control_df[control_df['commute'] == True].copy()\n",
    "non_commute_df = control_df[control_df['commute'] == False].copy()\n",
    "\n",
    "# Check sample sizes\n",
    "print(f\"Sample sizes: Commuting hours: {len(commute_df)}, Non-commuting hours: {len(non_commute_df)}\")"
   ]
  },
  {
   "cell_type": "markdown",
   "metadata": {},
   "source": [
    "## Analysis 1: Total Ridesharing Trips\n",
    "\n",
    "**Questions 1-3:** Do commuting hours experience a higher number of ridesharing trips compared to non-commuting hours?"
   ]
  },
  {
   "cell_type": "code",
   "execution_count": 20,
   "metadata": {},
   "outputs": [
    {
     "name": "stdout",
     "output_type": "stream",
     "text": [
      "1. Do commuting hours experience a higher number of ridesharing trips compared to non-commuting hours?\n",
      "Answer: YES\n",
      "Mean trips during commuting hours: 5046.00\n",
      "Mean trips during non-commuting hours: 3763.40\n",
      "\n",
      "2. What is the difference in the number of ridesharing trips between commuting and non-commuting hours?\n",
      "Answer: 1282.60 trips\n",
      "\n",
      "3. Is the difference statistically significant at the 5% confidence level?\n",
      "Answer: YES (p-value: 0.0000, t-statistic: 7.7715)\n"
     ]
    }
   ],
   "source": [
    "# Calculate total rides for each group\n",
    "commute_df['total_rides'] = commute_df['trips_pool'] + commute_df['trips_express']\n",
    "non_commute_df['total_rides'] = non_commute_df['trips_pool'] + non_commute_df['trips_express']\n",
    "\n",
    "# Calculate means\n",
    "mean_rides_commute = commute_df['total_rides'].mean()\n",
    "mean_rides_non_commute = non_commute_df['total_rides'].mean() \n",
    "ride_difference = mean_rides_commute - mean_rides_non_commute\n",
    "\n",
    "# Run t-test\n",
    "t_stat_rides, p_val_rides, sig_rides = run_ttest(\n",
    "    commute_df['total_rides'], \n",
    "    non_commute_df['total_rides']\n",
    ")\n",
    "\n",
    "# Print results\n",
    "print(\"1. Do commuting hours experience a higher number of ridesharing trips compared to non-commuting hours?\")\n",
    "print(f\"Answer: {'YES' if mean_rides_commute > mean_rides_non_commute else 'NO'}\")\n",
    "print(f\"Mean trips during commuting hours: {mean_rides_commute:.2f}\")\n",
    "print(f\"Mean trips during non-commuting hours: {mean_rides_non_commute:.2f}\")\n",
    "\n",
    "print(\"\\n2. What is the difference in the number of ridesharing trips between commuting and non-commuting hours?\")\n",
    "print(f\"Answer: {ride_difference:.2f} trips\")\n",
    "\n",
    "print(\"\\n3. Is the difference statistically significant at the 5% confidence level?\")\n",
    "print(f\"Answer: {'YES' if sig_rides else 'NO'} (p-value: {p_val_rides:.4f}, t-statistic: {t_stat_rides:.4f})\")"
   ]
  },
  {
   "cell_type": "markdown",
   "metadata": {},
   "source": [
    "## Visualization of Total Rides"
   ]
  },
  {
   "cell_type": "code",
   "execution_count": 21,
   "metadata": {},
   "outputs": [
    {
     "data": {
      "image/png": "[encoded data removed]",
      "text/plain": [
       "<Figure size 1000x600 with 1 Axes>"
      ]
     },
     "metadata": {},
     "output_type": "display_data"
    }
   ],
   "source": [
    "plt.figure(figsize=(10, 6))\n",
    "data = [commute_df['total_rides'], non_commute_df['total_rides']]\n",
    "labels = ['Commute', 'Non-Commute']\n",
    "plt.boxplot(data, tick_labels=labels)\n",
    "plt.title('Total Ridesharing Trips (Commute vs. Non-Commute)')\n",
    "plt.ylabel('Number of Trips')\n",
    "plt.grid(True, alpha=0.3)\n",
    "plt.show()"
   ]
  },
  {
   "cell_type": "markdown",
   "metadata": {},
   "source": [
    "## Analysis 2: Express POOL Usage\n",
    "\n",
    "**Questions 4-6:** Do riders use Express at higher rates during commuting hours compared to non-commuting hours?"
   ]
  },
  {
   "cell_type": "code",
   "execution_count": 22,
   "metadata": {},
   "outputs": [
    {
     "name": "stdout",
     "output_type": "stream",
     "text": [
      "4. Do riders use Express at higher rates during commuting hours compared to non-commuting hours?\n",
      "Answer: YES\n",
      "Express share during commuting hours: 0.6981 (69.81%)\n",
      "Express share during non-commuting hours: 0.6480 (64.80%)\n",
      "\n",
      "5. What is the difference in the share of Express trips between commuting and non-commuting hours?\n",
      "Answer: 0.0501 (or 5.01%)\n",
      "\n",
      "6. Is the difference statistically significant at the 5% confidence level?\n",
      "Answer: YES (p-value: 0.0016, t-statistic: 3.7599)\n"
     ]
    }
   ],
   "source": [
    "# Calculate Express trip rates\n",
    "commute_df['express_share'] = commute_df['trips_express'] / commute_df['total_rides']\n",
    "non_commute_df['express_share'] = non_commute_df['trips_express'] / non_commute_df['total_rides']\n",
    "\n",
    "# Calculate means\n",
    "mean_express_share_commute = commute_df['express_share'].mean()\n",
    "mean_express_share_non_commute = non_commute_df['express_share'].mean()\n",
    "express_share_difference = mean_express_share_commute - mean_express_share_non_commute\n",
    "\n",
    "# Run t-test\n",
    "t_stat_express, p_val_express, sig_express = run_ttest(\n",
    "    commute_df['express_share'], \n",
    "    non_commute_df['express_share']\n",
    ")\n",
    "\n",
    "# Print results\n",
    "print(\"4. Do riders use Express at higher rates during commuting hours compared to non-commuting hours?\")\n",
    "print(f\"Answer: {'YES' if mean_express_share_commute > mean_express_share_non_commute else 'NO'}\")\n",
    "print(f\"Express share during commuting hours: {mean_express_share_commute:.4f} ({mean_express_share_commute*100:.2f}%)\")\n",
    "print(f\"Express share during non-commuting hours: {mean_express_share_non_commute:.4f} ({mean_express_share_non_commute*100:.2f}%)\")\n",
    "\n",
    "print(\"\\n5. What is the difference in the share of Express trips between commuting and non-commuting hours?\")\n",
    "print(f\"Answer: {express_share_difference:.4f} (or {express_share_difference*100:.2f}%)\")\n",
    "\n",
    "print(\"\\n6. Is the difference statistically significant at the 5% confidence level?\")\n",
    "print(f\"Answer: {'YES' if sig_express else 'NO'} (p-value: {p_val_express:.4f}, t-statistic: {t_stat_express:.4f})\")"
   ]
  },
  {
   "cell_type": "markdown",
   "metadata": {},
   "source": [
    "## Visualization of Express Share"
   ]
  },
  {
   "cell_type": "code",
   "execution_count": 23,
   "metadata": {},
   "outputs": [
    {
     "data": {
      "image/png": "[encoded data removed]",
      "text/plain": [
       "<Figure size 1000x600 with 1 Axes>"
      ]
     },
     "metadata": {},
     "output_type": "display_data"
    }
   ],
   "source": [
    "plt.figure(figsize=(10, 6))\n",
    "data = [commute_df['express_share'], non_commute_df['express_share']]\n",
    "labels = ['Commute', 'Non-Commute']\n",
    "plt.boxplot(data, tick_labels=labels)\n",
    "plt.title('Share of Express Trips (Commute vs. Non-Commute)')\n",
    "plt.ylabel('Express Trips / Total Trips')\n",
    "plt.grid(True, alpha=0.3)\n",
    "plt.show()"
   ]
  },
  {
   "cell_type": "markdown",
   "metadata": {},
   "source": [
    "## Analysis 3: Revenue Comparison\n",
    "\n",
    "**Questions 7-8:** Assuming riders pay $12.5 on average for a POOL ride, and $10 for an Express ride. What is the difference in revenues between commuting and non-commuting hours?"
   ]
  },
  {
   "cell_type": "code",
   "execution_count": 24,
   "metadata": {},
   "outputs": [
    {
     "name": "stdout",
     "output_type": "stream",
     "text": [
      "7. Assuming riders pay $12.5 on average for a POOL ride, and $10 for an Express ride.\n",
      "What is the difference in revenues between commuting and non-commuting hours?\n",
      "Answer: $13310.97\n",
      "Mean revenue during commuting hours: $54256.25\n",
      "Mean revenue during non-commuting hours: $40945.28\n",
      "\n",
      "8. Is the difference statistically significant at the 5% confidence level?\n",
      "Answer: YES (p-value: 0.0000, t-statistic: 7.6565)\n"
     ]
    }
   ],
   "source": [
    "# Calculate revenue\n",
    "commute_df['revenue'] = (commute_df['trips_pool'] * 12.5) + (commute_df['trips_express'] * 10)\n",
    "non_commute_df['revenue'] = (non_commute_df['trips_pool'] * 12.5) + (non_commute_df['trips_express'] * 10)\n",
    "\n",
    "# Calculate means\n",
    "mean_revenue_commute = commute_df['revenue'].mean()\n",
    "mean_revenue_non_commute = non_commute_df['revenue'].mean()\n",
    "revenue_difference = mean_revenue_commute - mean_revenue_non_commute\n",
    "\n",
    "# Run t-test\n",
    "t_stat_revenue, p_val_revenue, sig_revenue = run_ttest(\n",
    "    commute_df['revenue'], \n",
    "    non_commute_df['revenue']\n",
    ")\n",
    "\n",
    "# Print results\n",
    "print(\"7. Assuming riders pay $12.5 on average for a POOL ride, and $10 for an Express ride.\")\n",
    "print(\"What is the difference in revenues between commuting and non-commuting hours?\")\n",
    "print(f\"Answer: ${revenue_difference:.2f}\")\n",
    "print(f\"Mean revenue during commuting hours: ${mean_revenue_commute:.2f}\")\n",
    "print(f\"Mean revenue during non-commuting hours: ${mean_revenue_non_commute:.2f}\")\n",
    "\n",
    "print(\"\\n8. Is the difference statistically significant at the 5% confidence level?\")\n",
    "print(f\"Answer: {'YES' if sig_revenue else 'NO'} (p-value: {p_val_revenue:.4f}, t-statistic: {t_stat_revenue:.4f})\")"
   ]
  },
  {
   "cell_type": "markdown",
   "metadata": {},
   "source": [
    "## Visualization of Revenue"
   ]
  },
  {
   "cell_type": "code",
   "execution_count": 25,
   "metadata": {},
   "outputs": [
    {
     "data": {
      "image/png": "[encoded data removed]",
      "text/plain": [
       "<Figure size 1000x600 with 1 Axes>"
      ]
     },
     "metadata": {},
     "output_type": "display_data"
    }
   ],
   "source": [
    "plt.figure(figsize=(10, 6))\n",
    "data = [commute_df['revenue'], non_commute_df['revenue']]\n",
    "labels = ['Commute', 'Non-Commute']\n",
    "plt.boxplot(data, tick_labels=labels)\n",
    "plt.title('Revenue (Commute vs. Non-Commute)')\n",
    "plt.ylabel('Revenue ($)')\n",
    "plt.grid(True, alpha=0.3)\n",
    "plt.show()"
   ]
  },
  {
   "cell_type": "markdown",
   "metadata": {},
   "source": [
    "## Analysis 4: Profit per Trip\n",
    "\n",
    "**Questions 9-10:** What is the difference in profits per trip between commuting and non-commuting hours?"
   ]
  },
  {
   "cell_type": "code",
   "execution_count": 26,
   "metadata": {},
   "outputs": [
    {
     "name": "stdout",
     "output_type": "stream",
     "text": [
      "9. What is the difference in profits per trip between commuting and non-commuting hours?\n",
      "Answer: $-0.6575\n",
      "Mean profit per trip during commuting hours: $2.9421\n",
      "Mean profit per trip during non-commuting hours: $3.5996\n",
      "\n",
      "10. Is the difference statistically significant at the 5% confidence level?\n",
      "Answer: YES (p-value: 0.0003, t-statistic: -4.4526)\n"
     ]
    }
   ],
   "source": [
    "# Calculate profit per trip\n",
    "commute_df['profit_per_trip'] = (commute_df['revenue'] - commute_df['total_driver_payout']) / commute_df['total_rides']\n",
    "non_commute_df['profit_per_trip'] = (non_commute_df['revenue'] - non_commute_df['total_driver_payout']) / non_commute_df['total_rides']\n",
    "\n",
    "# Calculate means\n",
    "mean_profit_per_trip_commute = commute_df['profit_per_trip'].mean()\n",
    "mean_profit_per_trip_non_commute = non_commute_df['profit_per_trip'].mean()\n",
    "profit_per_trip_difference = mean_profit_per_trip_commute - mean_profit_per_trip_non_commute\n",
    "\n",
    "# Run t-test\n",
    "t_stat_profit, p_val_profit, sig_profit = run_ttest(\n",
    "    commute_df['profit_per_trip'], \n",
    "    non_commute_df['profit_per_trip']\n",
    ")\n",
    "\n",
    "# Print results\n",
    "print(\"9. What is the difference in profits per trip between commuting and non-commuting hours?\")\n",
    "print(f\"Answer: ${profit_per_trip_difference:.4f}\")\n",
    "print(f\"Mean profit per trip during commuting hours: ${mean_profit_per_trip_commute:.4f}\")\n",
    "print(f\"Mean profit per trip during non-commuting hours: ${mean_profit_per_trip_non_commute:.4f}\")\n",
    "\n",
    "print(\"\\n10. Is the difference statistically significant at the 5% confidence level?\")\n",
    "print(f\"Answer: {'YES' if sig_profit else 'NO'} (p-value: {p_val_profit:.4f}, t-statistic: {t_stat_profit:.4f})\")"
   ]
  },
  {
   "cell_type": "markdown",
   "metadata": {},
   "source": [
    "## Visualization of Profit per Trip"
   ]
  },
  {
   "cell_type": "code",
   "execution_count": 27,
   "metadata": {},
   "outputs": [
    {
     "data": {
      "image/png": "[encoded data removed]",
      "text/plain": [
       "<Figure size 1000x600 with 1 Axes>"
      ]
     },
     "metadata": {},
     "output_type": "display_data"
    }
   ],
   "source": [
    "plt.figure(figsize=(10, 6))\n",
    "data = [commute_df['profit_per_trip'], non_commute_df['profit_per_trip']]\n",
    "labels = ['Commute', 'Non-Commute']\n",
    "plt.boxplot(data, tick_labels=labels)\n",
    "plt.title('Profit per Trip (Commute vs. Non-Commute)')\n",
    "plt.ylabel('Profit per Trip ($)')\n",
    "plt.grid(True, alpha=0.3)\n",
    "plt.show()"
   ]
  },
  {
   "cell_type": "markdown",
   "metadata": {},
   "source": [
    "## Summary of Results\n",
    "\n",
    "Let's create a summary table with all our findings:"
   ]
  },
  {
   "cell_type": "code",
   "execution_count": 28,
   "metadata": {},
   "outputs": [
    {
     "data": {
      "text/html": [
       "<div>\n",
       "<style scoped>\n",
       "    .dataframe tbody tr th:only-of-type {\n",
       "        vertical-align: middle;\n",
       "    }\n",
       "\n",
       "    .dataframe tbody tr th {\n",
       "        vertical-align: top;\n",
       "    }\n",
       "\n",
       "    .dataframe thead th {\n",
       "        text-align: right;\n",
       "    }\n",
       "</style>\n",
       "<table border=\"1\" class=\"dataframe\">\n",
       "  <thead>\n",
       "    <tr style=\"text-align: right;\">\n",
       "      <th></th>\n",
       "      <th>Metric</th>\n",
       "      <th>Commuting Hours</th>\n",
       "      <th>Non-Commuting Hours</th>\n",
       "      <th>Difference</th>\n",
       "      <th>Significant at 5%</th>\n",
       "      <th>p-value</th>\n",
       "    </tr>\n",
       "  </thead>\n",
       "  <tbody>\n",
       "    <tr>\n",
       "      <th>0</th>\n",
       "      <td>Total Rides</td>\n",
       "      <td>5046.00</td>\n",
       "      <td>3763.40</td>\n",
       "      <td>1282.60</td>\n",
       "      <td>YES</td>\n",
       "      <td>0.0000</td>\n",
       "    </tr>\n",
       "    <tr>\n",
       "      <th>1</th>\n",
       "      <td>Express Share (%)</td>\n",
       "      <td>69.81%</td>\n",
       "      <td>64.80%</td>\n",
       "      <td>5.01%</td>\n",
       "      <td>YES</td>\n",
       "      <td>0.0016</td>\n",
       "    </tr>\n",
       "    <tr>\n",
       "      <th>2</th>\n",
       "      <td>Revenue ($)</td>\n",
       "      <td>$54256.25</td>\n",
       "      <td>$40945.28</td>\n",
       "      <td>$13310.97</td>\n",
       "      <td>YES</td>\n",
       "      <td>0.0000</td>\n",
       "    </tr>\n",
       "    <tr>\n",
       "      <th>3</th>\n",
       "      <td>Profit per Trip ($)</td>\n",
       "      <td>$2.9421</td>\n",
       "      <td>$3.5996</td>\n",
       "      <td>$-0.6575</td>\n",
       "      <td>YES</td>\n",
       "      <td>0.0003</td>\n",
       "    </tr>\n",
       "  </tbody>\n",
       "</table>\n",
       "</div>"
      ],
      "text/plain": [
       "                Metric Commuting Hours Non-Commuting Hours Difference  \\\n",
       "0          Total Rides         5046.00             3763.40    1282.60   \n",
       "1    Express Share (%)          69.81%              64.80%      5.01%   \n",
       "2          Revenue ($)       $54256.25           $40945.28  $13310.97   \n",
       "3  Profit per Trip ($)         $2.9421             $3.5996   $-0.6575   \n",
       "\n",
       "  Significant at 5% p-value  \n",
       "0               YES  0.0000  \n",
       "1               YES  0.0016  \n",
       "2               YES  0.0000  \n",
       "3               YES  0.0003  "
      ]
     },
     "execution_count": 28,
     "metadata": {},
     "output_type": "execute_result"
    }
   ],
   "source": [
    "# Create a summary DataFrame\n",
    "summary_data = {\n",
    "    'Metric': [\n",
    "        'Total Rides', \n",
    "        'Express Share (%)', \n",
    "        'Revenue ($)', \n",
    "        'Profit per Trip ($)'\n",
    "    ],\n",
    "    'Commuting Hours': [\n",
    "        f\"{mean_rides_commute:.2f}\",\n",
    "        f\"{mean_express_share_commute*100:.2f}%\",\n",
    "        f\"${mean_revenue_commute:.2f}\",\n",
    "        f\"${mean_profit_per_trip_commute:.4f}\"\n",
    "    ],\n",
    "    'Non-Commuting Hours': [\n",
    "        f\"{mean_rides_non_commute:.2f}\",\n",
    "        f\"{mean_express_share_non_commute*100:.2f}%\",\n",
    "        f\"${mean_revenue_non_commute:.2f}\",\n",
    "        f\"${mean_profit_per_trip_non_commute:.4f}\"\n",
    "    ],\n",
    "    'Difference': [\n",
    "        f\"{ride_difference:.2f}\",\n",
    "        f\"{express_share_difference*100:.2f}%\",\n",
    "        f\"${revenue_difference:.2f}\",\n",
    "        f\"${profit_per_trip_difference:.4f}\"\n",
    "    ],\n",
    "    'Significant at 5%': [\n",
    "        'YES' if sig_rides else 'NO',\n",
    "        'YES' if sig_express else 'NO',\n",
    "        'YES' if sig_revenue else 'NO',\n",
    "        'YES' if sig_profit else 'NO'\n",
    "    ],\n",
    "    'p-value': [\n",
    "        f\"{p_val_rides:.4f}\",\n",
    "        f\"{p_val_express:.4f}\",\n",
    "        f\"{p_val_revenue:.4f}\",\n",
    "        f\"{p_val_profit:.4f}\"\n",
    "    ]\n",
    "}\n",
    "\n",
    "# Create DataFrame\n",
    "summary_df = pd.DataFrame(summary_data)\n",
    "summary_df"
   ]
  },
  {
   "cell_type": "markdown",
   "metadata": {},
   "source": [
    "## Conclusions\n",
    "\n",
    "Based on our analysis of Uber's Express POOL data comparing commuting versus non-commuting hours in the control group (2-minute wait times), we can draw the following conclusions:\n",
    "\n",
    "1. **Ridership Volume**: Commuting hours have significantly higher ridesharing trips compared to non-commuting hours, with a difference of about 1,282.60 trips per period. This is statistically significant with a p-value < 0.0001.\n",
    "\n",
    "2. **Express POOL Usage**: Riders use Express at higher rates during commuting hours compared to non-commuting hours, with a difference of 5.01%. This is statistically significant with a p-value of 0.0016.\n",
    "\n",
    "3. **Revenue**: Commuting hours generate significantly more revenue than non-commuting hours, with a difference of $13,310.97. This is statistically significant with a p-value < 0.0001.\n",
    "\n",
    "4. **Profit per Trip**: Despite higher revenue, commuting hours have lower profit per trip compared to non-commuting hours, with a difference of -$0.6575. This is statistically significant with a p-value of 0.0003.\n",
    "\n",
    "These findings suggest that while commuting hours are busier and generate more revenue, they might be less profitable on a per-trip basis. This could be due to factors such as increased traffic congestion, higher driver payouts, or other operational inefficiencies during peak hours. Uber might want to consider strategies to improve efficiency and profitability during commuting hours, such as optimizing the matching algorithm or adjusting pricing strategies."
   ]
  }
 ],
 "metadata": {
  "kernelspec": {
   "display_name": "Python 3",
   "language": "python",
   "name": "python3"
  },
  "language_info": {
   "codemirror_mode": {
    "name": "ipython",
    "version": 3
   },
   "file_extension": ".py",
   "mimetype": "text/x-python",
   "name": "python",
   "nbconvert_exporter": "python",
   "pygments_lexer": "ipython3",
   "version": "3.13.2"
  }
 },
 "nbformat": 4,
 "nbformat_minor": 4
}
